{
 "cells": [
  {
   "cell_type": "code",
   "execution_count": 1,
   "id": "1bade2be",
   "metadata": {},
   "outputs": [],
   "source": [
    "import ipywidgets as widgets\n",
    "from autocalc.autocalc import Var\n",
    "from IPython.display import display, clear_output\n",
    "\n",
    "# Packages for testing\n",
    "#import random\n",
    "#import functools"
   ]
  },
  {
   "cell_type": "markdown",
   "id": "98991df5",
   "metadata": {},
   "source": [
    "# Soft Tissue Sarcoma Mortality Predictor\n",
    "\n",
    "#### Based on the paper of Yeramosu et al. (Submitted)\n",
    "#### This model predicts whether a patient with soft-tissue sarcoma will experience cancer-related mortality (1) or not (0) and is to be used primarily by orthopaedic oncologists.\n",
    "#### This is not a definitive outcome. All literature should be consulted."
   ]
  },
  {
   "cell_type": "code",
   "execution_count": 11,
   "id": "3d2f1a9e",
   "metadata": {},
   "outputs": [],
   "source": [
    "# These are the input fields we receive (in order that they are input into the random forest model)\n",
    "\n",
    "# The first parameter is the name, which is arbitrary and will only be used for display purposes\n",
    "# It is optional to add a widget to a Var, but this makes it possible to use them as either input or output variables\n",
    "v1 = Var('Chemotherapy?', initial_value = 0, widget = widgets.Dropdown(options=[('Yes', 1), ('No', 0)],value=0))\n",
    "v2 = Var('Tumor Grade', initial_value = 0, widget = widgets.Dropdown(options=[('High', 1), ('Low', 0)],value=0))\n",
    "v3 = Var('Histological Subtype', initial_value = 0, widget = widgets.Dropdown(options=[('Clear Cell Sarcoma', 0), \\\n",
    "        ('Epithelioid Sarcoma', 1), ('Leiomyosarcoma', 2), ('Liposarcoma', 3), \\\n",
    "        ('Malignant Peripheral Nerve Sheath Tumor', 4), ('Myxofibrosarcoma', 5), ('Other', 6), \\\n",
    "        ('Synovial Sarcoma', 7), ('Undifferentiated Pleomorphic Sarcoma', 8)] \\\n",
    "        ,value=0))\n",
    "v4 = Var('M Stage', initial_value = 0, widget = widgets.Dropdown(options=[ ('0', 0), ('1', 1)],value=0))\n",
    "v5 = Var('N Stage', initial_value = 0, widget = widgets.Dropdown(options=[ ('0', 0), ('1', 1)],value=0))\n",
    "v6 = Var('Race', initial_value = 0, widget = widgets.Dropdown(options=[('White', 0), ('Black', 1), ('Other', 2)],value=0))\n",
    "v7 = Var('Age', initial_value = 0, widget = widgets.Dropdown(options=[('0 years', 0), \\\n",
    "        ('1-4 years', 1), ('5-9 years', 5), ('10-14 years', 10), ('15-19 years', 15),\\\n",
    "        ('20-24 years', 20), ('25-29 years', 25), ('30-34 years', 30), ('35-39 years', 35),\\\n",
    "        ('40-44 years', 40), ('45-49 years', 45), ('50-54 years', 50), ('55-59 years', 55),\\\n",
    "        ('60-64 years', 60), ('65-69 years', 65), ('70-74 years', 70), ('75-79 years', 75),\\\n",
    "        ('80-84 years', 80), ('85+ years', 85)]\\\n",
    "        ,value=0))\n",
    "v8 = Var('Sex', initial_value = 0, widget = widgets.Dropdown(options=[('Male', 0), ('Female', 1)],value=0))\n",
    "v9 = Var('Tumor Location', initial_value = 1, widget = widgets.Dropdown(options=[('Upper Extremity', 1), ('Lower Extremity', 2), ('Trunk', 3)],value=1))\n",
    "v10 = Var('Surgery?', initial_value = 0, widget = widgets.Dropdown(options=[('Yes', 1), ('No', 0)],value=0))\n",
    "v11 = Var('T Stage', initial_value = 0, widget = widgets.Dropdown(options=[ ('0', 0), ('1', 1), ('2', 2), ('3', 3), ('4', 4)],value=0))\n",
    "v12 = Var('Tumor Size (mm)', initial_value = 0, widget = widgets.BoundedFloatText(min=0))\n",
    "\n",
    "v13 = Var('Radiation Therapy?', initial_value = 0, widget = widgets.Dropdown(options=[('Yes', 1), ('No', 0)],value=0))\n"
   ]
  },
  {
   "cell_type": "markdown",
   "id": "7027da45",
   "metadata": {},
   "source": [
    "## Demographic Info"
   ]
  },
  {
   "cell_type": "code",
   "execution_count": 4,
   "id": "aede73f8",
   "metadata": {},
   "outputs": [
    {
     "data": {
      "application/vnd.jupyter.widget-view+json": {
       "model_id": "aeab1d6c93a3493fba02889cf72380a6",
       "version_major": 2,
       "version_minor": 0
      },
      "text/plain": [
       "HBox(children=(Button(description='Age', disabled=True, style=ButtonStyle(button_color='lightgreen')), Dropdow…"
      ]
     },
     "metadata": {},
     "output_type": "display_data"
    },
    {
     "data": {
      "application/vnd.jupyter.widget-view+json": {
       "model_id": "a9b4833929204a8da314e5ff8f79a10b",
       "version_major": 2,
       "version_minor": 0
      },
      "text/plain": [
       "HBox(children=(Button(description='Sex', disabled=True, style=ButtonStyle(button_color='lightgreen')), Dropdow…"
      ]
     },
     "metadata": {},
     "output_type": "display_data"
    },
    {
     "data": {
      "application/vnd.jupyter.widget-view+json": {
       "model_id": "23f1257869c045f9b21cf7704f18ad32",
       "version_major": 2,
       "version_minor": 0
      },
      "text/plain": [
       "HBox(children=(Button(description='Race', disabled=True, style=ButtonStyle(button_color='lightgreen')), Dropdo…"
      ]
     },
     "metadata": {},
     "output_type": "display_data"
    }
   ],
   "source": [
    "display(v7)\n",
    "display(v8)\n",
    "display(v6)"
   ]
  },
  {
   "cell_type": "markdown",
   "id": "fd0ce467",
   "metadata": {},
   "source": [
    "## Tumor Characteristics"
   ]
  },
  {
   "cell_type": "code",
   "execution_count": 5,
   "id": "c0298845",
   "metadata": {},
   "outputs": [
    {
     "data": {
      "application/vnd.jupyter.widget-view+json": {
       "model_id": "c4c1fc2c2c9240e2a5cc9ccd212fdb72",
       "version_major": 2,
       "version_minor": 0
      },
      "text/plain": [
       "HBox(children=(Button(description='Tumor Grade', disabled=True, style=ButtonStyle(button_color='lightgreen')),…"
      ]
     },
     "metadata": {},
     "output_type": "display_data"
    },
    {
     "data": {
      "application/vnd.jupyter.widget-view+json": {
       "model_id": "355cff355922445e8808813dec8b256a",
       "version_major": 2,
       "version_minor": 0
      },
      "text/plain": [
       "HBox(children=(Button(description='Tumor Size (cm)', disabled=True, style=ButtonStyle(button_color='lightgreen…"
      ]
     },
     "metadata": {},
     "output_type": "display_data"
    },
    {
     "data": {
      "application/vnd.jupyter.widget-view+json": {
       "model_id": "210c768a0a534e2a98756748ba0e84e9",
       "version_major": 2,
       "version_minor": 0
      },
      "text/plain": [
       "HBox(children=(Button(description='T Stage', disabled=True, style=ButtonStyle(button_color='lightgreen')), Dro…"
      ]
     },
     "metadata": {},
     "output_type": "display_data"
    },
    {
     "data": {
      "application/vnd.jupyter.widget-view+json": {
       "model_id": "f9b0d082e9eb47c983f8d6d301917b9c",
       "version_major": 2,
       "version_minor": 0
      },
      "text/plain": [
       "HBox(children=(Button(description='N Stage', disabled=True, style=ButtonStyle(button_color='lightgreen')), Dro…"
      ]
     },
     "metadata": {},
     "output_type": "display_data"
    },
    {
     "data": {
      "application/vnd.jupyter.widget-view+json": {
       "model_id": "4ee628ae734d480a8b9c1739242af0b6",
       "version_major": 2,
       "version_minor": 0
      },
      "text/plain": [
       "HBox(children=(Button(description='M Stage', disabled=True, style=ButtonStyle(button_color='lightgreen')), Dro…"
      ]
     },
     "metadata": {},
     "output_type": "display_data"
    },
    {
     "data": {
      "application/vnd.jupyter.widget-view+json": {
       "model_id": "61b6b84d286e4972a5774ebd464c8bc3",
       "version_major": 2,
       "version_minor": 0
      },
      "text/plain": [
       "HBox(children=(Button(description='Histological Subtype', disabled=True, style=ButtonStyle(button_color='light…"
      ]
     },
     "metadata": {},
     "output_type": "display_data"
    },
    {
     "data": {
      "application/vnd.jupyter.widget-view+json": {
       "model_id": "b8b10b4edd424bcf81885ec5c460bb2c",
       "version_major": 2,
       "version_minor": 0
      },
      "text/plain": [
       "HBox(children=(Button(description='Tumor Location', disabled=True, style=ButtonStyle(button_color='lightgreen'…"
      ]
     },
     "metadata": {},
     "output_type": "display_data"
    }
   ],
   "source": [
    "display(v2)\n",
    "display(v12)\n",
    "display(v11)\n",
    "display(v5)\n",
    "display(v4)\n",
    "display(v3)\n",
    "display(v9)"
   ]
  },
  {
   "cell_type": "markdown",
   "id": "7642d87f",
   "metadata": {},
   "source": [
    "## Treatment Characteristics"
   ]
  },
  {
   "cell_type": "code",
   "execution_count": 14,
   "id": "1e7c1b98",
   "metadata": {},
   "outputs": [
    {
     "data": {
      "application/vnd.jupyter.widget-view+json": {
       "model_id": "65ecc907bbe54dac9e04f9d6f864811d",
       "version_major": 2,
       "version_minor": 0
      },
      "text/plain": [
       "HBox(children=(Button(description='Surgery?', disabled=True, style=ButtonStyle(button_color='lightgreen')), Dr…"
      ]
     },
     "metadata": {},
     "output_type": "display_data"
    },
    {
     "data": {
      "application/vnd.jupyter.widget-view+json": {
       "model_id": "71e5e26193324f429d099381a92d4279",
       "version_major": 2,
       "version_minor": 0
      },
      "text/plain": [
       "HBox(children=(Button(description='Radiation Therapy?', disabled=True, style=ButtonStyle(button_color='lightgr…"
      ]
     },
     "metadata": {},
     "output_type": "display_data"
    },
    {
     "data": {
      "application/vnd.jupyter.widget-view+json": {
       "model_id": "7c5e0740fc694a6d894d710170bbbce2",
       "version_major": 2,
       "version_minor": 0
      },
      "text/plain": [
       "HBox(children=(Button(description='Chemotherapy?', disabled=True, style=ButtonStyle(button_color='lightgreen')…"
      ]
     },
     "metadata": {},
     "output_type": "display_data"
    }
   ],
   "source": [
    "display(v10)\n",
    "display(v13)\n",
    "display(v1)"
   ]
  },
  {
   "cell_type": "markdown",
   "id": "2af4f61f",
   "metadata": {},
   "source": [
    "\n",
    "# Prediction of Sarcoma Mortality"
   ]
  },
  {
   "cell_type": "code",
   "execution_count": 8,
   "id": "2782d52e",
   "metadata": {},
   "outputs": [],
   "source": [
    "import pickle\n",
    "# load the model from disk\n",
    "filename = \"finalized_RF_model.pkl\"\n",
    "rf_model = pickle.load(open(filename, 'rb'))"
   ]
  },
  {
   "cell_type": "code",
   "execution_count": 9,
   "id": "a325295d",
   "metadata": {},
   "outputs": [],
   "source": [
    "import numpy as np"
   ]
  },
  {
   "cell_type": "code",
   "execution_count": 15,
   "id": "cc972090",
   "metadata": {},
   "outputs": [
    {
     "data": {
      "application/vnd.jupyter.widget-view+json": {
       "model_id": "b5232c101c304e06819ee6535507143b",
       "version_major": 2,
       "version_minor": 0
      },
      "text/plain": [
       "Button(button_style='success', description='Calculate', icon='check', style=ButtonStyle(), tooltip='Calculate …"
      ]
     },
     "metadata": {},
     "output_type": "display_data"
    },
    {
     "data": {
      "application/vnd.jupyter.widget-view+json": {
       "model_id": "ef041a4f94ed49bbb086789fc54a5aed",
       "version_major": 2,
       "version_minor": 0
      },
      "text/plain": [
       "Output()"
      ]
     },
     "metadata": {},
     "output_type": "display_data"
    }
   ],
   "source": [
    "# These are the inputs pulled from the user input\n",
    "\n",
    "def getInput():\n",
    "#     return {\n",
    "#             u\"Chemotherapy (1=Yes)\": v1.get(),\n",
    "#             u\"Grade (4=anaplastic)\": v2.get(),\n",
    "#             u\"Histology (See pic 12/19)\": v3.get(),\n",
    "#             u\"M Stage\": v4.get(),\n",
    "#             u\"N Stage\": v5.get(),\n",
    "#             u\"Race (0=W, 1=B, 2=O, 3=U)\": v6.get(),\n",
    "#             u\"Raw Age 2\": v7.get(),\n",
    "#             u\"Sex (0=M)\": v8.get(),\n",
    "#             u\"Site (1=upper extremity; 2=lower extremity/pelvis; 3=trunk)\": v9.get(),\n",
    "#             u\"Surgery (1=Yes)\": v10.get(),\n",
    "#             u\"T Stage\": v11.get(),\n",
    "#             u\"Tumor Size\": v12.get()\n",
    "#     }\n",
    "    return np.array([v7.get(), v6.get(), v8.get(), v9.get(), v2.get(), v3.get(), v11.get(), v5.get(), v4.get(),\\\n",
    "                              v10.get(), v13.get(), v1.get(), v12.get()]).reshape(1, -1)\n",
    "\n",
    "#Metadata used in the model, only used for making the function call\n",
    "tejaOutput = {\n",
    "        u\"Prob(Cause of Death (1=due to cancer)==0)\": 0,\n",
    "        u\"Prob(Cause of Death (1=due to cancer)==1)\": 0,\n",
    "        u\"Most Likely Cause of Death (1=due to cancer)\": 0\n",
    "}\n",
    "\n",
    "button = widgets.Button(\n",
    "    description='Calculate',\n",
    "    disabled=False,\n",
    "    button_style='success', # 'success', 'info', 'warning', 'danger' or ''\n",
    "    tooltip='Calculate likelihood of cancer death',\n",
    "    icon='check' # (FontAwesome names without the `fa-` prefix)\n",
    ")\n",
    "\n",
    "display(button)\n",
    "\n",
    "i = Var('input', initial_value = getInput())\n",
    "o = Var('Tumor Size', initial_value = tejaOutput)\n",
    "\n",
    "# Old method of testing using autocalc -> ipywidgets output widget now utilized\n",
    "#output = Var('Cancer Death Likely', fun=teja.score, inputs=[i, o], widget = widgets.FloatText(), read_only=True)\n",
    "#output = Var('Cancer Death Likely', initial_value = random.randint(1, 10), widget = widgets.FloatText(), read_only=True)\n",
    "\n",
    "out = widgets.Output()\n",
    "display(out)\n",
    "\n",
    "def on_button_clicked(b):\n",
    "    with out:\n",
    "        clear_output()\n",
    "        i = Var('input', initial_value = getInput())\n",
    "        #val = teja.score(getInput(), tejaOutput)\n",
    "        output = Var('Mortality Likelihood', fun=rf_model.predict, inputs=[i], widget = widgets.FloatText(), read_only=True)\n",
    "        display(widgets.VBox([]), output)\n",
    "                     \n",
    "button\n",
    "button.on_click(on_button_clicked)"
   ]
  },
  {
   "cell_type": "code",
   "execution_count": null,
   "id": "2b8b898d",
   "metadata": {},
   "outputs": [],
   "source": []
  }
 ],
 "metadata": {
  "kernelspec": {
   "display_name": "Python 3 (ipykernel)",
   "language": "python",
   "name": "python3"
  },
  "language_info": {
   "codemirror_mode": {
    "name": "ipython",
    "version": 3
   },
   "file_extension": ".py",
   "mimetype": "text/x-python",
   "name": "python",
   "nbconvert_exporter": "python",
   "pygments_lexer": "ipython3",
   "version": "3.10.0"
  }
 },
 "nbformat": 4,
 "nbformat_minor": 5
}
