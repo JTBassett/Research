{
 "cells": [
  {
   "cell_type": "code",
   "execution_count": 1,
   "id": "1bade2be",
   "metadata": {},
   "outputs": [],
   "source": [
    "import ipywidgets as widgets\n",
    "from autocalc.autocalc import Var\n",
    "from IPython.display import display, clear_output\n",
    "\n",
    "#Where the model is housed\n",
    "import teja_python_code as teja\n",
    "\n",
    "# Packages for testing\n",
    "#import random\n",
    "#import functools"
   ]
  },
  {
   "cell_type": "markdown",
   "id": "98991df5",
   "metadata": {},
   "source": [
    "# Cancer Mortality Predictor\n"
   ]
  },
  {
   "cell_type": "code",
   "execution_count": 2,
   "id": "3d2f1a9e",
   "metadata": {},
   "outputs": [],
   "source": [
    "# These are the input fields we receive (in order that they are input into the random forest model)\n",
    "\n",
    "# The first parameter is the name, which is arbitrary and will only be used for display purposes\n",
    "# It is optional to add a widget to a Var, but this makes it possible to use them as either input or output variables\n",
    "v1 = Var('Chemotherapy?', initial_value = 0, widget = widgets.Dropdown(options=[('yes', 1), ('no', 0)],value=0))\n",
    "v2 = Var('Tumor Grade', initial_value = 1, widget = widgets.Dropdown(options=[('1', 1), ('2', 2), ('3', 3), ('4', 4)],value=1))\n",
    "v3 = Var('Histological Subtype', initial_value = 8804, widget = widgets.Dropdown(options=[('epitheloid sarcoma (8804)', 8804), \\\n",
    "        ('fibromyxosarcoma (8811)', 8811), ('malignant fibrous histiocytoma (8830)', 8830), ('pleomorphic liposarcoma (8854)', 8854), \\\n",
    "        ('leiomyosarcoma (8890,8891,8893)', 8890), ('synovial sarcoma (9040-9043)', 9040), ('clear cell sarcoma (9044)', 9044), \\\n",
    "        ('malignant peripheral nerve sheath tumor (9540)', 9540), ('granular cell tumor (9040-9043)', 9580)] \\\n",
    "        ,value=8804))\n",
    "v4 = Var('M Stage', initial_value = 0, widget = widgets.Dropdown(options=[ ('0', 0), ('1', 1)],value=0))\n",
    "v5 = Var('N Stage', initial_value = 0, widget = widgets.Dropdown(options=[ ('0', 0), ('1', 1), ('2', 2), ('3', 3)],value=0))\n",
    "v6 = Var('Race', initial_value = 0, widget = widgets.Dropdown(options=[('white', 0), ('black', 1), ('other', 2)],value=0))\n",
    "v7 = Var('Age (Years)', initial_value = 0, widget = widgets.BoundedFloatText(min=0))\n",
    "v8 = Var('Sex', initial_value = 0, widget = widgets.Dropdown(options=[('male', 0), ('female', 1)],value=0))\n",
    "v9 = Var('Tumor Location', initial_value = 1, widget = widgets.Dropdown(options=[('upper extremity', 1), ('lower extremity/pelvis', 2), ('trunk', 3)],value=1))\n",
    "v10 = Var('Surgery?', initial_value = 0, widget = widgets.Dropdown(options=[('yes', 1), ('no', 0)],value=0))\n",
    "v11 = Var('T Stage', initial_value = 0, widget = widgets.Dropdown(options=[ ('0', 0), ('1', 1), ('2', 2), ('3', 3),],value=0))\n",
    "v12 = Var('Tumor Size (cm)', initial_value = 0, widget = widgets.BoundedFloatText(min=0))\n"
   ]
  },
  {
   "cell_type": "markdown",
   "id": "7027da45",
   "metadata": {},
   "source": [
    "## Demographic Info"
   ]
  },
  {
   "cell_type": "code",
   "execution_count": 3,
   "id": "aede73f8",
   "metadata": {},
   "outputs": [
    {
     "data": {
      "application/vnd.jupyter.widget-view+json": {
       "model_id": "8aec1feb91824350885ffc8047d1ae06",
       "version_major": 2,
       "version_minor": 0
      },
      "text/plain": [
       "HBox(children=(Button(description='Age (Years)', disabled=True, style=ButtonStyle(button_color='lightgreen')),…"
      ]
     },
     "metadata": {},
     "output_type": "display_data"
    },
    {
     "data": {
      "application/vnd.jupyter.widget-view+json": {
       "model_id": "dc5d1b2c1e124c318741e99dadcdec15",
       "version_major": 2,
       "version_minor": 0
      },
      "text/plain": [
       "HBox(children=(Button(description='Sex', disabled=True, style=ButtonStyle(button_color='lightgreen')), Dropdow…"
      ]
     },
     "metadata": {},
     "output_type": "display_data"
    },
    {
     "data": {
      "application/vnd.jupyter.widget-view+json": {
       "model_id": "5e699053f84e4b6c9212965424ef6f89",
       "version_major": 2,
       "version_minor": 0
      },
      "text/plain": [
       "HBox(children=(Button(description='Race', disabled=True, style=ButtonStyle(button_color='lightgreen')), Dropdo…"
      ]
     },
     "metadata": {},
     "output_type": "display_data"
    }
   ],
   "source": [
    "display(v7)\n",
    "display(v8)\n",
    "display(v6)"
   ]
  },
  {
   "cell_type": "markdown",
   "id": "fd0ce467",
   "metadata": {},
   "source": [
    "## Tumor Characteristics"
   ]
  },
  {
   "cell_type": "code",
   "execution_count": 4,
   "id": "c0298845",
   "metadata": {},
   "outputs": [
    {
     "data": {
      "application/vnd.jupyter.widget-view+json": {
       "model_id": "7cd5cb1b28e3491da7e7e3fd38fd9cfa",
       "version_major": 2,
       "version_minor": 0
      },
      "text/plain": [
       "HBox(children=(Button(description='Tumor Grade', disabled=True, style=ButtonStyle(button_color='lightgreen')),…"
      ]
     },
     "metadata": {},
     "output_type": "display_data"
    },
    {
     "data": {
      "application/vnd.jupyter.widget-view+json": {
       "model_id": "333453eb022c4e928032f5813f214cc4",
       "version_major": 2,
       "version_minor": 0
      },
      "text/plain": [
       "HBox(children=(Button(description='Tumor Size (cm)', disabled=True, style=ButtonStyle(button_color='lightgreen…"
      ]
     },
     "metadata": {},
     "output_type": "display_data"
    },
    {
     "data": {
      "application/vnd.jupyter.widget-view+json": {
       "model_id": "0f8696a4797940a0b273a9037a653577",
       "version_major": 2,
       "version_minor": 0
      },
      "text/plain": [
       "HBox(children=(Button(description='T Stage', disabled=True, style=ButtonStyle(button_color='lightgreen')), Dro…"
      ]
     },
     "metadata": {},
     "output_type": "display_data"
    },
    {
     "data": {
      "application/vnd.jupyter.widget-view+json": {
       "model_id": "37916c4b526a4e259eaa8cafb8291350",
       "version_major": 2,
       "version_minor": 0
      },
      "text/plain": [
       "HBox(children=(Button(description='N Stage', disabled=True, style=ButtonStyle(button_color='lightgreen')), Dro…"
      ]
     },
     "metadata": {},
     "output_type": "display_data"
    },
    {
     "data": {
      "application/vnd.jupyter.widget-view+json": {
       "model_id": "b730b525ff894291968b420757001c4c",
       "version_major": 2,
       "version_minor": 0
      },
      "text/plain": [
       "HBox(children=(Button(description='M Stage', disabled=True, style=ButtonStyle(button_color='lightgreen')), Dro…"
      ]
     },
     "metadata": {},
     "output_type": "display_data"
    },
    {
     "data": {
      "application/vnd.jupyter.widget-view+json": {
       "model_id": "5ea67af1e07845f6b0259b3c32c8bc80",
       "version_major": 2,
       "version_minor": 0
      },
      "text/plain": [
       "HBox(children=(Button(description='Histological Subtype', disabled=True, style=ButtonStyle(button_color='light…"
      ]
     },
     "metadata": {},
     "output_type": "display_data"
    },
    {
     "data": {
      "application/vnd.jupyter.widget-view+json": {
       "model_id": "d062a7243f8e43d6a371310bd5e1ab26",
       "version_major": 2,
       "version_minor": 0
      },
      "text/plain": [
       "HBox(children=(Button(description='Tumor Location', disabled=True, style=ButtonStyle(button_color='lightgreen'…"
      ]
     },
     "metadata": {},
     "output_type": "display_data"
    }
   ],
   "source": [
    "display(v2)\n",
    "display(v12)\n",
    "display(v11)\n",
    "display(v5)\n",
    "display(v4)\n",
    "display(v3)\n",
    "display(v9)"
   ]
  },
  {
   "cell_type": "markdown",
   "id": "7642d87f",
   "metadata": {},
   "source": [
    "## Treatment Characteristics"
   ]
  },
  {
   "cell_type": "code",
   "execution_count": 5,
   "id": "1e7c1b98",
   "metadata": {},
   "outputs": [
    {
     "data": {
      "application/vnd.jupyter.widget-view+json": {
       "model_id": "baa3042a1342473dadbdfcc30c883741",
       "version_major": 2,
       "version_minor": 0
      },
      "text/plain": [
       "HBox(children=(Button(description='Chemotherapy?', disabled=True, style=ButtonStyle(button_color='lightgreen')…"
      ]
     },
     "metadata": {},
     "output_type": "display_data"
    },
    {
     "data": {
      "application/vnd.jupyter.widget-view+json": {
       "model_id": "b85ce2efa8f94aceab8344885c3dd688",
       "version_major": 2,
       "version_minor": 0
      },
      "text/plain": [
       "HBox(children=(Button(description='Surgery?', disabled=True, style=ButtonStyle(button_color='lightgreen')), Dr…"
      ]
     },
     "metadata": {},
     "output_type": "display_data"
    }
   ],
   "source": [
    "display(v1)\n",
    "display(v10)"
   ]
  },
  {
   "cell_type": "markdown",
   "id": "2af4f61f",
   "metadata": {},
   "source": [
    "\n",
    "# Prediction of Cancer Mortality"
   ]
  },
  {
   "cell_type": "code",
   "execution_count": 7,
   "id": "cc972090",
   "metadata": {},
   "outputs": [
    {
     "data": {
      "application/vnd.jupyter.widget-view+json": {
       "model_id": "fe2d28897aad4de1acde65bd37c2aaaf",
       "version_major": 2,
       "version_minor": 0
      },
      "text/plain": [
       "Button(button_style='success', description='Calculate', icon='check', style=ButtonStyle(), tooltip='Calculate …"
      ]
     },
     "metadata": {},
     "output_type": "display_data"
    },
    {
     "data": {
      "application/vnd.jupyter.widget-view+json": {
       "model_id": "b3838d1f5d174535a29e5d88232973dd",
       "version_major": 2,
       "version_minor": 0
      },
      "text/plain": [
       "Output()"
      ]
     },
     "metadata": {},
     "output_type": "display_data"
    }
   ],
   "source": [
    "# These are the inputs pulled from the user input\n",
    "\n",
    "def getInput():\n",
    "    return {\n",
    "            u\"Chemotherapy (1=Yes)\": v1.get(),\n",
    "            u\"Grade (4=anaplastic)\": v2.get(),\n",
    "            u\"Histology (See pic 12/19)\": v3.get(),\n",
    "            u\"M Stage\": v4.get(),\n",
    "            u\"N Stage\": v5.get(),\n",
    "            u\"Race (0=W, 1=B, 2=O, 3=U)\": v6.get(),\n",
    "            u\"Raw Age 2\": v7.get(),\n",
    "            u\"Sex (0=M)\": v8.get(),\n",
    "            u\"Site (1=upper extremity; 2=lower extremity/pelvis; 3=trunk)\": v9.get(),\n",
    "            u\"Surgery (1=Yes)\": v10.get(),\n",
    "            u\"T Stage\": v11.get(),\n",
    "            u\"Tumor Size\": v12.get()\n",
    "    }\n",
    "\n",
    "#Metadata used in the model, only used for making the function call\n",
    "tejaOutput = {\n",
    "        u\"Prob(Cause of Death (1=due to cancer)==0)\": 0,\n",
    "        u\"Prob(Cause of Death (1=due to cancer)==1)\": 0,\n",
    "        u\"Most Likely Cause of Death (1=due to cancer)\": 0\n",
    "}\n",
    "\n",
    "button = widgets.Button(\n",
    "    description='Calculate',\n",
    "    disabled=False,\n",
    "    button_style='success', # 'success', 'info', 'warning', 'danger' or ''\n",
    "    tooltip='Calculate likelihood of cancer death',\n",
    "    icon='check' # (FontAwesome names without the `fa-` prefix)\n",
    ")\n",
    "\n",
    "display(button)\n",
    "\n",
    "i = Var('input', initial_value = getInput())\n",
    "o = Var('Tumor Size', initial_value = tejaOutput)\n",
    "\n",
    "# Old method of testing using autocalc -> ipywidgets output widget now utilized\n",
    "#output = Var('Cancer Death Likely', fun=teja.score, inputs=[i, o], widget = widgets.FloatText(), read_only=True)\n",
    "#output = Var('Cancer Death Likely', initial_value = random.randint(1, 10), widget = widgets.FloatText(), read_only=True)\n",
    "\n",
    "out = widgets.Output()\n",
    "display(out)\n",
    "\n",
    "def on_button_clicked(b):\n",
    "    with out:\n",
    "        clear_output()\n",
    "        i = Var('input', initial_value = getInput())\n",
    "        #val = teja.score(getInput(), tejaOutput)\n",
    "        output = Var('Mortality Likelihood', fun=teja.score, inputs=[i, o], widget = widgets.FloatText(), read_only=True)\n",
    "        # Testing with random outputs\n",
    "        #output = Var('Cancer Death Likely', initial_value = random.randint(1, 10), lazy = False, widget = widgets.FloatText(), read_only=True)\n",
    "        display(widgets.VBox([]), output)\n",
    "                     \n",
    "button\n",
    "button.on_click(on_button_clicked)"
   ]
  },
  {
   "cell_type": "code",
   "execution_count": null,
   "id": "2b8b898d",
   "metadata": {},
   "outputs": [],
   "source": []
  }
 ],
 "metadata": {
  "kernelspec": {
   "display_name": "Python 3 (ipykernel)",
   "language": "python",
   "name": "python3"
  },
  "language_info": {
   "codemirror_mode": {
    "name": "ipython",
    "version": 3
   },
   "file_extension": ".py",
   "mimetype": "text/x-python",
   "name": "python",
   "nbconvert_exporter": "python",
   "pygments_lexer": "ipython3",
   "version": "3.10.0"
  }
 },
 "nbformat": 4,
 "nbformat_minor": 5
}
